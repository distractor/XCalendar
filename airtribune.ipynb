{
 "cells": [
  {
   "cell_type": "code",
   "execution_count": 1,
   "metadata": {},
   "outputs": [],
   "source": [
    "from bs4 import BeautifulSoup\n",
    "import requests\n",
    "from datetime import datetime\n",
    "import json"
   ]
  },
  {
   "cell_type": "code",
   "execution_count": 2,
   "metadata": {},
   "outputs": [
    {
     "name": "stdout",
     "output_type": "stream",
     "text": [
      "----  DONE  ----\n",
      "329 competitions saved.\n"
     ]
    }
   ],
   "source": [
    "url = 'https://airtribune.com/events/next'\n",
    "page_response = requests.get(url)\n",
    "page = BeautifulSoup(page_response.content, \"html.parser\")\n",
    "\n",
    "json_comps = str(page.find_all(\"script\")[2]).split(\";\")[0]\n",
    "N = json_comps.find(\"{\")\n",
    "json_comps = json_comps[N-1:]\n",
    "comps = json.loads(json_comps)\n",
    "\n",
    "c = comps[\"past-events\"][\"content\"]\n",
    "for comp in comps[\"current-events\"][\"content\"]:\n",
    "    c.append(comp)\n",
    "for comp in comps[\"next-events\"][\"content\"]:\n",
    "    c.append(comp)\n",
    "    \n",
    "    \n",
    "competitions = []\n",
    "for comp in c:\n",
    "    comp_name = comp[\"title\"]\n",
    "    comp_url = 'https://airtribune.com' + comp[\"url\"]\n",
    "    \n",
    "    date = comp[\"start_date\"].split(\"-\")\n",
    "    comp_start = datetime.strptime(date[2] + \"-\" + date[1] + \"-\" + date[0], '%d-%m-%Y')\n",
    "    date = comp[\"end_date\"].split(\"-\")\n",
    "    comp_end = datetime.strptime(date[2] + \"-\" + date[1] + \"-\" + date[0], '%d-%m-%Y')\n",
    "    \n",
    "    comp_location = comp[\"place\"]\n",
    "    if (comp[\"sport\"] == 0):\n",
    "        comp_sport = \"Paraglider\"\n",
    "    else:\n",
    "        comp_sport = comp[\"sport\"]\n",
    "        \n",
    "    if (comp_start.year < datetime.now().year - 1):\n",
    "        # skip competitions older than 1 year in past\n",
    "        continue\n",
    "        \n",
    "    competitions.append([comp_name, comp_url, comp_location, comp_start, comp_end, comp_sport])\n",
    "\n",
    "print(\"----  DONE  ----\")\n",
    "print(\"%d competitions saved.\" % len(competitions))"
   ]
  },
  {
   "cell_type": "code",
   "execution_count": null,
   "metadata": {},
   "outputs": [],
   "source": []
  }
 ],
 "metadata": {
  "kernelspec": {
   "display_name": "Python 3",
   "language": "python",
   "name": "python3"
  },
  "language_info": {
   "codemirror_mode": {
    "name": "ipython",
    "version": 3
   },
   "file_extension": ".py",
   "mimetype": "text/x-python",
   "name": "python",
   "nbconvert_exporter": "python",
   "pygments_lexer": "ipython3",
   "version": "3.7.4"
  }
 },
 "nbformat": 4,
 "nbformat_minor": 2
}
