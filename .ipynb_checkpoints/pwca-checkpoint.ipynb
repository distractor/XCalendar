{
 "cells": [
  {
   "cell_type": "code",
   "execution_count": 1,
   "metadata": {},
   "outputs": [],
   "source": [
    "from bs4 import BeautifulSoup\n",
    "import requests\n",
    "from datetime import datetime"
   ]
  },
  {
   "cell_type": "code",
   "execution_count": 2,
   "metadata": {},
   "outputs": [
    {
     "name": "stdout",
     "output_type": "stream",
     "text": [
      "Something went wrong when reading dates of BEAT THE BULGE, BREAK THE KNEES, CIRCUMNAVIGATION OF LESOTHO (BBBK).\n",
      "Date array:  ['16', 'Dec', '2017', '-', '07', 'Dec', '2018']\n",
      "----  DONE  ----\n",
      "186 competitions saved.\n"
     ]
    }
   ],
   "source": [
    "now = datetime.now()\n",
    "\n",
    "competitions = []\n",
    "for year in [now.year - 1, now.year, now.year + 1]:\n",
    "    url = 'https://www.livetrack24.com/events/year/' + str(year)\n",
    "    page_response = requests.get(url)\n",
    "    page = BeautifulSoup(page_response.content, \"html.parser\")\n",
    "    data = page.find_all(class_ = \"event-item\")\n",
    "\n",
    "    for comp in data:\n",
    "        comp_name = comp.find(class_ = \"eventH2banner\").string\n",
    "        comp_url = 'https://www.livetrack24.com' + comp.find('a').get('href')\n",
    "\n",
    "        childs = []\n",
    "        for child in comp.find(class_ = \"informationOverlay\").descendants:\n",
    "            if (child.string not in childs) and (child.string != None):\n",
    "                childs.append(child.string.replace(\"\\t\", \"\").replace(\"\\r\", \"\").replace(\"\\n\", \"\"))\n",
    "\n",
    "        comp_location = childs[1]\n",
    "        date = childs[4]\n",
    "        date = date.split(\" \")\n",
    "        try:\n",
    "            if (len(date) != 5):\n",
    "                comp_start = datetime.strptime(date[0] + \"-\" + date[1] + \"-\" + date[-1], '%d-%b-%Y')\n",
    "                comp_end = datetime.strptime(date[3] + \"-\" + date[4] + \"-\" + date[-1], '%d-%b-%Y')\n",
    "            else:\n",
    "                comp_start = datetime.strptime(date[0] + \"-\" + date[-2] + \"-\" + date[-1], '%d-%b-%Y')\n",
    "                comp_end = datetime.strptime(date[2] + \"-\" + date[-2] + \"-\" + date[-1], '%d-%b-%Y')\n",
    "        except:\n",
    "            print(\"Something went wrong when reading dates of %s.\" % comp_name)\n",
    "            print(\"Date array: \", date)\n",
    "        comp_sport = childs[-2]\n",
    "\n",
    "        competitions.append([comp_name, comp_url, comp_location, comp_start, comp_end, comp_sport])\n",
    "\n",
    "print(\"----  DONE  ----\")\n",
    "print(\"%d competitions saved.\" % len(competitions))"
   ]
  },
  {
   "cell_type": "code",
   "execution_count": null,
   "metadata": {},
   "outputs": [],
   "source": []
  }
 ],
 "metadata": {
  "kernelspec": {
   "display_name": "Python 3",
   "language": "python",
   "name": "python3"
  },
  "language_info": {
   "codemirror_mode": {
    "name": "ipython",
    "version": 3
   },
   "file_extension": ".py",
   "mimetype": "text/x-python",
   "name": "python",
   "nbconvert_exporter": "python",
   "pygments_lexer": "ipython3",
   "version": "3.7.4"
  }
 },
 "nbformat": 4,
 "nbformat_minor": 2
}
